{
 "cells": [
  {
   "cell_type": "markdown",
   "metadata": {},
   "source": [
    "This notebook shows how we can listen for changes in the user database using the NCI CONNECT GCP pub/sub\n",
    "\n",
    "step one gather your GCP credentials\n",
    "you will have to change this to your file.\n",
    "\n"
   ]
  },
  {
   "cell_type": "code",
   "execution_count": 24,
   "metadata": {},
   "outputs": [
    {
     "name": "stdout",
     "output_type": "stream",
     "text": [
      "env: GOOGLE_APPLICATION_CREDENTIALS=/Users/druss/.gcpkeys/nih-nci-dceg-episphere-dev-subscriber.json\n"
     ]
    },
    {
     "data": {
      "text/plain": [
       "'/Users/druss/.gcpkeys/nih-nci-dceg-episphere-dev-subscriber.json'"
      ]
     },
     "execution_count": 24,
     "metadata": {},
     "output_type": "execute_result"
    }
   ],
   "source": [
    "%env GOOGLE_APPLICATION_CREDENTIALS=/Users/druss/.gcpkeys/nih-nci-dceg-episphere-dev-subscriber.json\n",
    "%env GOOGLE_APPLICATION_CREDENTIALS"
   ]
  },
  {
   "cell_type": "code",
   "execution_count": 26,
   "metadata": {},
   "outputs": [
    {
     "name": "stdout",
     "output_type": "stream",
     "text": [
      "/Users/druss/.gcpkeys/nih-nci-dceg-episphere-dev-subscriber.json\n"
     ]
    }
   ],
   "source": [
    "!ls ${GOOGLE_APPLICATION_CREDENTIALS}"
   ]
  },
  {
   "cell_type": "markdown",
   "metadata": {},
   "source": [
    "make sure thet the google cloud pubsub library is installed...\n"
   ]
  },
  {
   "cell_type": "code",
   "execution_count": 27,
   "metadata": {},
   "outputs": [
    {
     "name": "stdout",
     "output_type": "stream",
     "text": [
      "Collecting package metadata (current_repodata.json): done\n",
      "Solving environment: done\n",
      "\n",
      "# All requested packages already installed.\n",
      "\n"
     ]
    }
   ],
   "source": [
    "import sys\n",
    "!conda install --yes --prefix {sys.prefix} -c conda-forge google-cloud-pubsub\n"
   ]
  },
  {
   "cell_type": "markdown",
   "metadata": {},
   "source": [
    "connect to the subscriber... (I am showing with the NCI subscriber, your service account \n",
    "wont be able to access this subscriber),\n",
    "We will provide you with the topic_name and the subscription name"
   ]
  },
  {
   "cell_type": "code",
   "execution_count": 29,
   "metadata": {},
   "outputs": [
    {
     "name": "stdout",
     "output_type": "stream",
     "text": [
      "b'{\"oldValue\":{\"createTime\":\"2019-08-20T15:08:17.540027Z\",\"fields\":{\"RcrtES_AgeQualify_v1r0\":{\"integerValue\":\"1\"},\"RcrtES_Aware_v1r0\":{\"mapValue\":{\"fields\":{\"RcrtES_Aware_v1r0_Email\":{\"integerValue\":\"0\"},\"RcrtES_Aware_v1r0_Family\":{\"integerValue\":\"0\"},\"RcrtES_Aware_v1r0_Invite\":{\"integerValue\":\"0\"},\"RcrtES_Aware_v1r0_Member\":{\"integerValue\":\"0\"},\"RcrtES_Aware_v1r0_News\":{\"integerValue\":\"0\"},\"RcrtES_Aware_v1r0_Other\":{\"integerValue\":\"0\"},\"RcrtES_Aware_v1r0_Post\":{\"integerValue\":\"0\"},\"RcrtES_Aware_v1r0_Poster\":{\"integerValue\":\"0\"},\"RcrtES_Aware_v1r0_Social\":{\"integerValue\":\"0\"},\"RcrtES_Aware_v1r0_Table\":{\"integerValue\":\"0\"},\"RcrtES_Aware_v1r0_phys\":{\"integerValue\":\"0\"}}}},\"RcrtES_CancerHist_v1r0\":{\"integerValue\":\"1\"},\"RcrtES_Eligible_v1r0\":{\"integerValue\":\"0\"},\"RcrtES_Site_v1r0\":{\"integerValue\":\"1\"},\"source\":{\"stringValue\":\"eligibility_screener\"},\"state\":{\"mapValue\":{\"fields\":{\"identityClaimDeniedBySite\":{\"booleanValue\":false},\"token\":{\"stringValue\":\"4e9e437e-2c47-45df-b428-ed564c51db78\"},\"verified\":{\"booleanValue\":false}}}}},\"name\":\"projects/nih-nci-dceg-episphere-dev/databases/(default)/documents/participants/07H8p2U8fX0msHbteqnG\",\"updateTime\":\"2020-04-17T02:49:11.997471Z\"},\"updateMask\":{\"fieldPaths\":[\"state.verified\"]},\"value\":{\"createTime\":\"2019-08-20T15:08:17.540027Z\",\"fields\":{\"RcrtES_AgeQualify_v1r0\":{\"integerValue\":\"1\"},\"RcrtES_Aware_v1r0\":{\"mapValue\":{\"fields\":{\"RcrtES_Aware_v1r0_Email\":{\"integerValue\":\"0\"},\"RcrtES_Aware_v1r0_Family\":{\"integerValue\":\"0\"},\"RcrtES_Aware_v1r0_Invite\":{\"integerValue\":\"0\"},\"RcrtES_Aware_v1r0_Member\":{\"integerValue\":\"0\"},\"RcrtES_Aware_v1r0_News\":{\"integerValue\":\"0\"},\"RcrtES_Aware_v1r0_Other\":{\"integerValue\":\"0\"},\"RcrtES_Aware_v1r0_Post\":{\"integerValue\":\"0\"},\"RcrtES_Aware_v1r0_Poster\":{\"integerValue\":\"0\"},\"RcrtES_Aware_v1r0_Social\":{\"integerValue\":\"0\"},\"RcrtES_Aware_v1r0_Table\":{\"integerValue\":\"0\"},\"RcrtES_Aware_v1r0_phys\":{\"integerValue\":\"0\"}}}},\"RcrtES_CancerHist_v1r0\":{\"integerValue\":\"1\"},\"RcrtES_Eligible_v1r0\":{\"integerValue\":\"0\"},\"RcrtES_Site_v1r0\":{\"integerValue\":\"1\"},\"source\":{\"stringValue\":\"eligibility_screener\"},\"state\":{\"mapValue\":{\"fields\":{\"identityClaimDeniedBySite\":{\"booleanValue\":false},\"token\":{\"stringValue\":\"4e9e437e-2c47-45df-b428-ed564c51db78\"},\"verified\":{\"booleanValue\":true}}}}},\"name\":\"projects/nih-nci-dceg-episphere-dev/databases/(default)/documents/participants/07H8p2U8fX0msHbteqnG\",\"updateTime\":\"2020-04-17T02:49:11.997471Z\"}}'\n"
     ]
    }
   ],
   "source": [
    "from google.cloud import pubsub_v1\n",
    "\n",
    "subscriber = pubsub_v1.SubscriberClient();\n",
    "topic_name='projects/nih-nci-dceg-episphere-dev/topics/firestore-connect-participant-data-updates'\n",
    "subscription_name='projects/nih-nci-dceg-episphere-dev/subscriptions/subscription-firestore-connect-participant-data-updates'\n",
    "\n",
    "def callback(message):\n",
    "    print(message.data)\n",
    "    message.ack()\n",
    "\n",
    "future = subscriber.subscribe(subscription_name, callback)\n",
    "\n",
    "try:\n",
    "    future.result()\n",
    "except KeyboardInterrupt:\n",
    "    future.cancel()\n"
   ]
  },
  {
   "cell_type": "code",
   "execution_count": null,
   "metadata": {},
   "outputs": [],
   "source": []
  }
 ],
 "metadata": {
  "kernelspec": {
   "display_name": "Python 3",
   "language": "python",
   "name": "python3"
  },
  "language_info": {
   "codemirror_mode": {
    "name": "ipython",
    "version": 3
   },
   "file_extension": ".py",
   "mimetype": "text/x-python",
   "name": "python",
   "nbconvert_exporter": "python",
   "pygments_lexer": "ipython3",
   "version": "3.7.6"
  }
 },
 "nbformat": 4,
 "nbformat_minor": 4
}
